{
  "nbformat": 4,
  "nbformat_minor": 0,
  "metadata": {
    "colab": {
      "provenance": []
    },
    "kernelspec": {
      "name": "python3",
      "display_name": "Python 3"
    },
    "language_info": {
      "name": "python"
    }
  },
  "cells": [
    {
      "cell_type": "markdown",
      "source": [
        "# Medical image steganography"
      ],
      "metadata": {
        "id": "xAiGhjukkgs5"
      }
    },
    {
      "cell_type": "code",
      "source": [
        "import cv2\n",
        "import numpy as np"
      ],
      "metadata": {
        "id": "yV7UbHLikIRv"
      },
      "execution_count": null,
      "outputs": []
    },
    {
      "cell_type": "markdown",
      "source": [
        "### Embedding process"
      ],
      "metadata": {
        "id": "E0Iq4aLJklR4"
      }
    },
    {
      "cell_type": "code",
      "source": [
        "def embed_watermark(image, watermark_text, position=(10, 30), font_scale=0.5):\n",
        "    watermarked_image = image.copy()\n",
        "    cv2.putText(watermarked_image, watermark_text, position, cv2.FONT_HERSHEY_SIMPLEX, font_scale, (255, 255, 255), 1, cv2.LINE_AA)\n",
        "    return watermarked_image\n",
        "\n",
        "def embed_secret_message_with_delimiter(image, secret_message):\n",
        "    secret_message_with_delimiter = secret_message + \"####\"\n",
        "    binary_message = ''.join(format(ord(char), '08b') for char in secret_message_with_delimiter)\n",
        "\n",
        "    flat_image = image.flatten()\n",
        "\n",
        "    for i in range(len(binary_message)):\n",
        "        flat_image[i] = (flat_image[i] & ~1) | int(binary_message[i])\n",
        "\n",
        "    return flat_image.reshape(image.shape)"
      ],
      "metadata": {
        "id": "AbBgSM5UkIKf"
      },
      "execution_count": null,
      "outputs": []
    },
    {
      "cell_type": "markdown",
      "source": [
        "### Extraction"
      ],
      "metadata": {
        "id": "17TuaeJCkrEO"
      }
    },
    {
      "cell_type": "code",
      "source": [
        "def extract_secret_message_until_delimiter(image, password, correct_password):\n",
        "    if password != correct_password:\n",
        "        return \"Incorrect password! Access denied.\"\n",
        "\n",
        "    flat_image = image.flatten()\n",
        "    binary_message = ''\n",
        "\n",
        "    for i in range(len(flat_image)):\n",
        "        binary_message += str(flat_image[i] & 1)\n",
        "\n",
        "        if len(binary_message) % 8 == 0:\n",
        "            char = chr(int(binary_message[-8:], 2))\n",
        "\n",
        "            if binary_message.endswith('00100011001000110010001100100011'):\n",
        "                break\n",
        "\n",
        "    extracted_message = ''.join(chr(int(binary_message[i:i+8], 2)) for i in range(0, len(binary_message)-32, 8))\n",
        "\n",
        "    return extracted_message"
      ],
      "metadata": {
        "id": "frgMQI6tkIBg"
      },
      "execution_count": null,
      "outputs": []
    },
    {
      "cell_type": "markdown",
      "source": [
        "### Region Of Interest highlighter"
      ],
      "metadata": {
        "id": "mxd0hJ1JkxUu"
      }
    },
    {
      "cell_type": "code",
      "source": [
        "def highlight_roi(image, roi_coords):\n",
        "    roi_image = image.copy()\n",
        "    for (x, y, w, h) in roi_coords:\n",
        "        cv2.rectangle(roi_image, (x, y), (x + w, y + h), (0, 255, 0), 2)\n",
        "    return roi_image\n",
        "\n",
        "def save_roi_image(image, roi_coords, output_roi_image_path):\n",
        "    roi_image = highlight_roi(image, roi_coords)\n",
        "    cv2.imwrite(output_roi_image_path, roi_image)\n",
        "    print(f\"ROI image saved at: {output_roi_image_path}\")"
      ],
      "metadata": {
        "id": "LOAMPYXIkUhB"
      },
      "execution_count": null,
      "outputs": []
    },
    {
      "cell_type": "markdown",
      "source": [
        "### Embedding function"
      ],
      "metadata": {
        "id": "fohznZkAk7eW"
      }
    },
    {
      "cell_type": "code",
      "source": [
        "def combine_watermark_and_message(image_path, secret_message, watermark_text, output_image_path, output_roi_image_path):\n",
        "    image = cv2.imread(image_path)\n",
        "\n",
        "    if image is None:\n",
        "        print(f\"Error: Could not load image from {image_path}\")\n",
        "        return None\n",
        "\n",
        "    roi_coords = [(0, 0, 400, 100)]\n",
        "    save_roi_image(image, roi_coords, output_roi_image_path)\n",
        "\n",
        "    watermarked_image = embed_watermark(image, watermark_text)\n",
        "\n",
        "    height, width = image.shape[:2]\n",
        "\n",
        "    mask = np.ones((height, width), dtype=np.uint8)\n",
        "\n",
        "    for (x, y, w, h) in roi_coords:\n",
        "        mask[y:y + h, x:x + w] = 0\n",
        "    message_image = watermarked_image.copy()\n",
        "    if np.count_nonzero(mask) > len(secret_message) * 8:\n",
        "        message_image = embed_secret_message_with_delimiter(message_image, secret_message)\n",
        "    else:\n",
        "        print(\"Not enough space to embed the secret message in the available area.\")\n",
        "\n",
        "    cv2.imwrite(output_image_path, message_image)\n",
        "    print(f\"Image saved with watermark and secret message at: {output_image_path}\")\n",
        "\n",
        "    return message_image"
      ],
      "metadata": {
        "id": "skZccfsTkY7m"
      },
      "execution_count": null,
      "outputs": []
    },
    {
      "cell_type": "markdown",
      "source": [
        "Details give for execution"
      ],
      "metadata": {
        "id": "OlqtUc-4lHM2"
      }
    },
    {
      "cell_type": "code",
      "source": [
        "image_path = 'medical_image.png'\n",
        "secret_message = \"Patient Name: John Doe, Disease: XYZ, Doctor: James\"\n",
        "watermark_text = \"Watermark\"\n",
        "output_image_path = 'output_image.png'\n",
        "output_roi_image_path = 'roi_image.png'\n",
        "correct_password = input(\"Enter a password to protect: \")\n",
        "\n",
        "message_image = combine_watermark_and_message(image_path, secret_message, watermark_text, output_image_path, output_roi_image_path)"
      ],
      "metadata": {
        "colab": {
          "base_uri": "https://localhost:8080/"
        },
        "id": "2R2t60nmr0Cr",
        "outputId": "b3ed3f91-55bf-486f-f0a7-4b06a9844c05"
      },
      "execution_count": null,
      "outputs": [
        {
          "output_type": "stream",
          "name": "stdout",
          "text": [
            "Enter a password to protect: 1234\n",
            "ROI image saved at: roi_image.png\n",
            "Image saved with watermark and secret message at: output_image.png\n"
          ]
        }
      ]
    },
    {
      "cell_type": "markdown",
      "source": [
        "Extracting the secret message which is password protected"
      ],
      "metadata": {
        "id": "HtTcek0vlLjI"
      }
    },
    {
      "cell_type": "code",
      "source": [
        "password = input(\"Enter the password to access the secret message: \")\n",
        "\n",
        "extracted_message = extract_secret_message_until_delimiter(cv2.imread(output_image_path), password, correct_password)\n",
        "print(f\"Extracted secret message: {extracted_message}\")"
      ],
      "metadata": {
        "colab": {
          "base_uri": "https://localhost:8080/"
        },
        "id": "rHkNVmkcsJ5s",
        "outputId": "48cce3c4-1ee3-4aab-89f1-80f5528f4f2f"
      },
      "execution_count": null,
      "outputs": [
        {
          "output_type": "stream",
          "name": "stdout",
          "text": [
            "Enter the password to access the secret message: 1234\n",
            "Extracted secret message: Patient Name: John Doe, Disease: XYZ, Doctor: James\n"
          ]
        }
      ]
    },
    {
      "cell_type": "code",
      "source": [],
      "metadata": {
        "id": "HR7tFkbqDQ8C"
      },
      "execution_count": null,
      "outputs": []
    }
  ]
}